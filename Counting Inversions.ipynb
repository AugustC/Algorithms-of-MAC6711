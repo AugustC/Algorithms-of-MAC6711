{
 "cells": [
  {
   "cell_type": "code",
   "execution_count": 1,
   "metadata": {
    "collapsed": true
   },
   "outputs": [],
   "source": [
    "import numpy as np\n",
    "import timeit as time"
   ]
  },
  {
   "cell_type": "markdown",
   "metadata": {},
   "source": [
    "# Counting Inversions"
   ]
  },
  {
   "cell_type": "markdown",
   "metadata": {},
   "source": [
    "Counting Inversions is a problem that can arise when comparing rankings, where there's a need to calculate a number that can describe how much one rank is different from the other. For instance, suppose that two different people are asked to rank a predetermined list of movies and you want to compare both ranks. It's easy to do it if both ranks are the same or if  the ranks are the complete opposite of each other (the cases where the ranks are equal or completely different, respectively), but the middle term is quite difficult.\n",
    "\n",
    "Simply put, the problem can be described as it follows:\n",
    "> Let $X$ be a vector of $n$ distinct numbers. The pair $(i,j)$ is called an inversion in $X$ if $j > i$ and $X[i] > X[j]$.  \n",
    "Therefore, given an arbitrary $X$, count the number of inversions in the vector.\n",
    "\n",
    "<TODO: Example of inversions>\n",
    "\n"
   ]
  },
  {
   "cell_type": "markdown",
   "metadata": {},
   "source": [
    "## Trivial Solution\n",
    "\n",
    "The problem can be easily solved in quadratic time, i. e., $O(n^2)$, by testing all the possible combinations. The code below implements this solution."
   ]
  },
  {
   "cell_type": "code",
   "execution_count": 2,
   "metadata": {
    "collapsed": true
   },
   "outputs": [],
   "source": [
    "# Function that receives a vector X and calculates the number of inversions in it\n",
    "def count_inversions_quadratic(X):\n",
    "    n = len(X)\n",
    "    count = 0\n",
    "    for i in range(n-1):\n",
    "        for j in range(i, n):\n",
    "            if X[i] > X[j]:\n",
    "                count = count + 1\n",
    "    return count"
   ]
  },
  {
   "cell_type": "markdown",
   "metadata": {},
   "source": [
    "Testing the `count_inversions_quadratic` function with three different values of $n$ gives the following results"
   ]
  },
  {
   "cell_type": "code",
   "execution_count": 3,
   "metadata": {},
   "outputs": [
    {
     "name": "stdout",
     "output_type": "stream",
     "text": [
      "n=100\n",
      "0.0009893799997371389\n",
      "\n",
      "n=1000\n",
      "0.089478488000168\n",
      "\n",
      "n=10000\n",
      "8.882824162999896\n",
      "\n",
      "n=100000\n",
      "896.2444365390002\n"
     ]
    }
   ],
   "source": [
    "def test_inversions_quadratic(n):\n",
    "    X = np.arange(n)\n",
    "    np.random.shuffle(X)\n",
    "    count_inversions_quadratic(X)\n",
    "\n",
    "def time_inversions_quadratic_100():\n",
    "    test_inversions_quadratic(100)\n",
    "\n",
    "def time_inversions_quadratic_1000():\n",
    "    test_inversions_quadratic(1000)\n",
    "\n",
    "def time_inversions_quadratic_10000():\n",
    "    test_inversions_quadratic(10000)\n",
    "    \n",
    "def time_inversions_quadratic_100000():\n",
    "    test_inversions_quadratic(100000)\n",
    "\n",
    "print(\"n=100\")\n",
    "print(time.timeit(time_inversions_quadratic_100, number=1))\n",
    "print(\"\")\n",
    "print(\"n=1000\")\n",
    "print(time.timeit(time_inversions_quadratic_1000, number=1))\n",
    "print(\"\")\n",
    "print(\"n=10000\")\n",
    "print(time.timeit(time_inversions_quadratic_10000, number=1))\n",
    "print(\"\")\n",
    "print(\"n=100000\")\n",
    "print(time.timeit(time_inversions_quadratic_100000, number=1))"
   ]
  },
  {
   "cell_type": "markdown",
   "metadata": {},
   "source": [
    "It's clear to see that the running time of the algorithm grows very fast as we take larger values of $n$"
   ]
  },
  {
   "cell_type": "markdown",
   "metadata": {},
   "source": [
    "## Divide-and-Conquer solution\n",
    "\n",
    "Another solution to this problem takes a divide-and-conquer approach. This solution is based on mergesort, a $O(nlgn)$ recursive algorithm that sorts a given vector. The idea of this solution is to count the number of inversions in a vector while sorting it with the mergesort algorithm. In order to understand this solution, let's take a closer look on a single step of the mergesort recurrence.\n",
    "\n",
    "In each recursive call, the mergesort algorithm takes the vector $X$ and divides the vector into two different vectors $A$ and $B$. These two vectors are sorted recursively. So, in a recursive call, the algorithm has two sorted vectors $A$ and $B$, where every indice $j$ of $B$ is greater than every indice $i$ of $A$. The mergesort then intercalates both vectors by comparing the first element of each vector, removing the smallest one and adding it on a \"solution vector\".  \n",
    "Because every element of $B$ has an indice greater than every indice of the elements of $A$, every time the smallest element of both vectors is from $B$, all the remaining elements on $A$ during that iteration will be an inversion with the smallest element. Therefore, the counter of inversions can sum the remaining length of vector $A$ with the previous counted inversions.\n",
    "\n",
    "<TODO: Example image>\n",
    "\n",
    "The following code implements this solution:"
   ]
  },
  {
   "cell_type": "code",
   "execution_count": 4,
   "metadata": {
    "collapsed": true
   },
   "outputs": [],
   "source": [
    "def count_inversions_mergesort(X):\n",
    "    n = X.size\n",
    "    q = int(n/2)\n",
    "    A, inversionsA = inversions_mergesort(X[:q])\n",
    "    B, inversionsB = inversions_mergesort(X[q:])\n",
    "    AB, inversionsAB = intercalates(A,B)\n",
    "    return (inversionsA + inversionsB + inversionsAB)\n",
    "\n",
    "def inversions_mergesort(X):\n",
    "    if X.size < 2:\n",
    "        return X, 0\n",
    "    q = int(X.size/2)\n",
    "    A, inversionsA = inversions_mergesort(X[:q])\n",
    "    B, inversionsB = inversions_mergesort(X[q:])\n",
    "    AB, inversionsAB = intercalates(A,B)\n",
    "    return(AB, inversionsAB + inversionsA + inversionsB)\n",
    "\n",
    "def intercalates(A,B):\n",
    "    AB = np.array([])\n",
    "    inversions = 0\n",
    "    i = 0\n",
    "    j = 0\n",
    "    while i < A.size and j < B.size:\n",
    "        if A[i] <= B[j]:\n",
    "            AB = np.append(AB, A[i])\n",
    "            i = i + 1\n",
    "        else:\n",
    "            AB = np.append(AB, B[j])\n",
    "            j = j + 1\n",
    "            inversions = inversions + A.size - i\n",
    "    if i == A.size:\n",
    "        AB = np.append(AB,B[j:])\n",
    "    elif j == B.size:\n",
    "        AB = np.append(AB,A[i:])\n",
    "    return AB, inversions"
   ]
  },
  {
   "cell_type": "code",
   "execution_count": 5,
   "metadata": {},
   "outputs": [
    {
     "name": "stdout",
     "output_type": "stream",
     "text": [
      "n=100\n",
      "0.008106683000733028\n",
      "\n",
      "n=1000\n",
      "0.06737098299981881\n",
      "\n",
      "n=10000\n",
      "0.48952734700014844\n",
      "\n",
      "n=100000\n",
      "9.28464858100051\n"
     ]
    }
   ],
   "source": [
    "def test_inversions_mergesort(n):\n",
    "    X = np.arange(n)\n",
    "    np.random.shuffle(X)\n",
    "    count_inversions_mergesort(X)\n",
    "\n",
    "def time_inversions_mergesort_100():\n",
    "    test_inversions_mergesort(100)\n",
    "\n",
    "def time_inversions_mergesort_1000():\n",
    "    test_inversions_mergesort(1000)\n",
    "\n",
    "def time_inversions_mergesort_10000():\n",
    "    test_inversions_mergesort(10000)\n",
    "    \n",
    "def time_inversions_mergesort_100000():\n",
    "    test_inversions_mergesort(100000)\n",
    "    \n",
    "print(\"n=100\")\n",
    "print(time.timeit(time_inversions_mergesort_100, number=1))\n",
    "print(\"\")\n",
    "print(\"n=1000\")\n",
    "print(time.timeit(time_inversions_mergesort_1000, number=1))\n",
    "print(\"\")\n",
    "print(\"n=10000\")\n",
    "print(time.timeit(time_inversions_mergesort_10000, number=1))\n",
    "print(\"\")\n",
    "print(\"n=100000\")\n",
    "print(time.timeit(time_inversions_mergesort_100000, number=1))\n"
   ]
  }
 ],
 "metadata": {
  "kernelspec": {
   "display_name": "Python [default]",
   "language": "python",
   "name": "python3"
  },
  "language_info": {
   "codemirror_mode": {
    "name": "ipython",
    "version": 3
   },
   "file_extension": ".py",
   "mimetype": "text/x-python",
   "name": "python",
   "nbconvert_exporter": "python",
   "pygments_lexer": "ipython3",
   "version": "3.6.3"
  }
 },
 "nbformat": 4,
 "nbformat_minor": 2
}
